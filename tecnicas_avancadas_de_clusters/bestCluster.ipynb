{
 "cells": [
  {
   "cell_type": "code",
   "execution_count": 1,
   "metadata": {},
   "outputs": [],
   "source": [
    "import numpy as np\n",
    "import pandas as pd\n",
    "from sklearn import datasets\n",
    "from sklearn.preprocessing import StandardScaler\n",
    "from sklearn.cluster import KMeans, AgglomerativeClustering, DBSCAN\n",
    "from sklearn.metrics import silhouette_score\n",
    "\n"
   ]
  },
  {
   "cell_type": "code",
   "execution_count": 2,
   "metadata": {},
   "outputs": [],
   "source": [
    "def compare_algorithms(X, max_clusters):\n",
    "    results = []\n",
    "    cluster_range = range(2, max_clusters + 1)\n",
    "    \n",
    "    #KMeans\n",
    "    for n_clusters in cluster_range:\n",
    "        kmeans = KMeans(n_clusters=n_clusters, random_state=0, n_init='auto')\n",
    "        cluster = kmeans.fit_predict(X)\n",
    "        \n",
    "        silhouette_avg = silhouette_score(X, cluster)\n",
    "        results.append(('KMeans',n_clusters, silhouette_avg))\n",
    "        \n",
    "    #Aglomerative\n",
    "    for n_clusters in cluster_range:\n",
    "        agglomerative = AgglomerativeClustering(n_clusters=n_clusters, random_state=0, n_init='auto')\n",
    "        cluster = agglomerative.fit_predict(X)\n",
    "        \n",
    "        silhouette_avg = silhouette_score(X, cluster)\n",
    "        results.append(('Agglomerative',n_clusters, silhouette_avg))\n",
    "        \n",
    "    #DBSCAN\n",
    "    \n",
    "    eps_values = np.arange(0.1,0.9,0.1)\n",
    "    for eps in eps_values:\n",
    "        dbscan = DBSCAN(eps=eps, min_samples=5)\n",
    "        cluster = dbscan.fit_predict(X)\n",
    "        if len(set(cluster))>1:\n",
    "            silhouette_avg = silhouette_score(X, cluster)\n",
    "            results.append('DBSCAN', eps, silhouette_avg)\n",
    "            \n",
    "    return results"
   ]
  }
 ],
 "metadata": {
  "kernelspec": {
   "display_name": "Python 3",
   "language": "python",
   "name": "python3"
  },
  "language_info": {
   "codemirror_mode": {
    "name": "ipython",
    "version": 3
   },
   "file_extension": ".py",
   "mimetype": "text/x-python",
   "name": "python",
   "nbconvert_exporter": "python",
   "pygments_lexer": "ipython3",
   "version": "3.11.9"
  }
 },
 "nbformat": 4,
 "nbformat_minor": 2
}
